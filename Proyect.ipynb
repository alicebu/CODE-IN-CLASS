{
  "nbformat": 4,
  "nbformat_minor": 0,
  "metadata": {
    "colab": {
      "provenance": [],
      "authorship_tag": "ABX9TyOBAMDXQ/AvKTDpLwz4/FC2",
      "include_colab_link": true
    },
    "kernelspec": {
      "name": "python3",
      "display_name": "Python 3"
    },
    "language_info": {
      "name": "python"
    }
  },
  "cells": [
    {
      "cell_type": "markdown",
      "metadata": {
        "id": "view-in-github",
        "colab_type": "text"
      },
      "source": [
        "<a href=\"https://colab.research.google.com/github/alicebu/CODE-IN-CLASS/blob/main/Proyect.ipynb\" target=\"_parent\"><img src=\"https://colab.research.google.com/assets/colab-badge.svg\" alt=\"Open In Colab\"/></a>"
      ]
    },
    {
      "cell_type": "code",
      "execution_count": null,
      "metadata": {
        "id": "Jj39nKOLTI8c"
      },
      "outputs": [],
      "source": []
    },
    {
      "cell_type": "markdown",
      "source": [
        "#First Part\n",
        "\n",
        "pitch\n",
        "\n",
        "Format - iphynb\n",
        "\n",
        "Contens\n",
        "\n",
        "1. Variable: IPS\n",
        "\n",
        "    1.1. Name: INDEX OF SOCIAL PROGRESS IN COLOMBIA\n",
        "\n",
        "    1.2 Period or dates. And frequency Individuals: \n",
        "    * (2015-2022) \n",
        "    * in an annual frequency\n",
        "    * the data will be reflected in 15 cities of Colombia\n",
        "\n",
        "    1.3 Sources (with links) \n",
        "    * [Datosmacro] (https://datosmacro.expansion.com/demografia/spi/colombia)\n",
        "    * [Bogota como vamos] (https://bogotacomovamos.org/indice-de-progreso-social-de-ciudades-ips-ciudades-2021/)\n",
        "\n",
        "\n",
        "2. Goals\n",
        "\n",
        "    2.1. Story: \n",
        "    * It seeks to complement the analysis of social and economic progress, to recognize how the state must make better decisions in managing spending and investment in different sectors.\n",
        "\n",
        "    2.2. Audience: \n",
        "    * It is intended for any person or economists who want to investigate the socio-economic progress of the country and want to make an analysis of the social welfare situation.\n",
        "\n",
        "    2.3. Justifity the DV type \n",
        "    * because in an analysis that will help us determine in a more real way the internal situation of a country in its social and economic well-being, showing multiple components such as health, access to knowledge, sustainability and, among others, in order to understand the country's economic policy, it will be represented by means of a movable or animated Horizontal Bar Chart with grouped data\n",
        "\n",
        "3. Examples\n",
        "\n",
        "    3.1. Examples A. (patent applications by countries or by organizations) [https://elordenmundial.com/mapas-y-graficos/paises-se-registran-mas-patentes/]\n",
        "\n",
        "    (Grafica animada 1:22) [https://www.youtube.com/watch?v=Nfn7vi8eTik&ab_channel=Ec.RicardoContreras%2CMBA]\n",
        "  \n",
        "        * story: It seeks to register the patents of the countries to reflect their capacity for innovation in their economy\n",
        "        * Audience: people who are interested in knowing the technological and innovation museum of a country\n",
        "        * justifity: to determine the economic muscle with the innovation capacity of a country, by means of a horizontal bar diagram of grouped data\n",
        "\n",
        "    3.2. Examples B. (residuos en bogota) [https://glosarios.servidor-alicante.com/terminos-estadistica/diagrama-de-barras-apiladas]\n",
        "    \n",
        "        * story: shows the recycling capacity that has existed over the years\n",
        "        * Audience: public interested in knowing the contamination indices\n",
        "        * Justifity: to determine the economic muscle with the innovation capacity of a country, by means of a horizontal bar diagram of grouped data\n",
        "\n",
        "\n"
      ],
      "metadata": {
        "id": "G3TrPKKGTNNd"
      }
    },
    {
      "cell_type": "markdown",
      "source": [],
      "metadata": {
        "id": "3b7oLU5RN6rA"
      }
    }
  ]
}